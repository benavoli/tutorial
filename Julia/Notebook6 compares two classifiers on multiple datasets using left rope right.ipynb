{
 "cells": [
  {
   "cell_type": "markdown",
   "metadata": {},
   "source": [
    "# Print all the p-values for the comparison of all 5 classifiers on multiple datasets"
   ]
  },
  {
   "cell_type": "code",
   "execution_count": 1,
   "metadata": {
    "collapsed": false
   },
   "outputs": [
    {
     "name": "stdout",
     "output_type": "stream",
     "text": [
      "nbc & aode & 0.000 \\\\\n",
      "nbc & hnb & 0.001 \\\\\n",
      "nbc & j48 & 0.463 \\\\\n",
      "nbc & j48gr & 0.394 \\\\\n",
      "aode & hnb & 0.654 \\\\\n",
      "aode & j48 & 0.077 \\\\\n",
      "aode & j48gr & 0.106 \\\\\n",
      "hnb & j48 & 0.067 \\\\\n",
      "hn"
     ]
    },
    {
     "ename": "LoadError",
     "evalue": "LoadError: UndefVarError: tieadj not defined\nwhile loading In[1], in expression starting on line 12",
     "output_type": "error",
     "traceback": [
      "LoadError: UndefVarError: tieadj not defined\nwhile loading In[1], in expression starting on line 12",
      "",
      " in SignedRankTest at /home/benavoli/.julia/v0.4/HypothesisTests/src/wilcoxon.jl:33",
      " [inlined code] from In[1]:29",
      " in anonymous at no file:0"
     ]
    },
    {
     "name": "stdout",
     "output_type": "stream",
     "text": [
      "b & j48gr & 0.084 \\\\\n"
     ]
    }
   ],
   "source": [
    "using HypothesisTests\n",
    "ClassID = readdlm(\"Data/ClassifierID.dat\", ',')\n",
    "ClassNames = readdlm(\"Data/ClassifierNames.dat\", ',')\n",
    "DatasetID = readdlm(\"Data/DatasetID.dat\", ',');\n",
    "DatasetNames = readdlm(\"Data/DatasetNames.dat\", ',');\n",
    "Percent_correct = readdlm(\"Data/Percent_correct.dat\", ',');\n",
    "\n",
    "\n",
    "\n",
    "\n",
    "ii=0\n",
    "for cl1=1:Int32(maximum(ClassID))\n",
    "    for cl2=cl1+1:Int32(maximum(ClassID))\n",
    "\n",
    "        ii=ii+1\n",
    "        indi=find(x->x==cl1,ClassID)\n",
    "        indj=find(x->x==cl2,ClassID)\n",
    "        acci=Float64[]\n",
    "        accj=Float64[]\n",
    "        for d=1:Int32(maximum(DatasetID))\n",
    "            indd=find(x->x==d,DatasetID)\n",
    "            indid=intersect(indi,indd)\n",
    "            indjd=intersect(indj,indd)\n",
    "            push!(acci,mean(Percent_correct[indid])/100)\n",
    "            push!(accj,mean(Percent_correct[indjd])/100)\n",
    "        end\n",
    "\n",
    "        \n",
    "     pvalSignedRankTest=pvalue(SignedRankTest(acci,accj))\n",
    "\n",
    "     @printf \"%s & %s & %1.3f \\\\\\\\\\n\" ClassNames[cl1] ClassNames[cl2] pvalSignedRankTest\n",
    "\n",
    "    end\n",
    "end"
   ]
  },
  {
   "cell_type": "code",
   "execution_count": 2,
   "metadata": {
    "collapsed": false,
    "scrolled": true
   },
   "outputs": [
    {
     "name": "stdout",
     "output_type": "stream",
     "text": [
      "nbc & aode & 0.000 & 0.121 & 0.879 \\\\\n",
      "nbc & hnb & 0.000 & 0.001 & 0.999 \\\\\n",
      "nbc & j48 & 0.228 & 0.006 & 0.766 \\\\\n",
      "nbc & j48gr & 0.181 & 0.004 & 0.815 \\\\\n",
      "aode & hnb & 0.001 & 0.965 & 0.034 \\\\\n",
      "aode & j48 & 0.904 & 0.034 & 0.062 \\\\\n",
      "aode & j48gr & 0.885 & 0.044 & 0.071 \\\\\n",
      "hnb & j48 & 0.962 & 0.019 & 0.019 \\\\\n",
      "hnb & j48gr & 0.950 & 0.026 & 0.025 \\\\\n",
      "j48 & j48gr & 0.000 & 1.000 & 0.000 \\\\\n"
     ]
    }
   ],
   "source": [
    "using  Distributions\n",
    "using DataFrames\n",
    "using Gadfly\n",
    "using Compose\n",
    "\n",
    "include(\"Tests/Bsignranktest.jl\")\n",
    "include(\"Tests/Bsigntest.jl\")\n",
    "include(\"Plots/plot_simplex.jl\")\n",
    "\n",
    "ClassID = readdlm(\"Data/ClassifierID.dat\", ',')\n",
    "ClassNames = readdlm(\"Data/ClassifierNames.dat\", ',')\n",
    "DatasetID = readdlm(\"Data/DatasetID.dat\", ',');\n",
    "DatasetNames = readdlm(\"Data/DatasetNames.dat\", ',');\n",
    "Percent_correct = readdlm(\"Data/Percent_correct.dat\", ',');\n",
    "\n",
    "\n",
    "p1=Array{Gadfly.Plot}(Int32(maximum(ClassID)*(maximum(ClassID)-1)/2))\n",
    "data=0\n",
    "\n",
    "ii=0\n",
    "for cl1=1:Int32(maximum(ClassID))\n",
    "    for cl2=cl1+1:Int32(maximum(ClassID))\n",
    "\n",
    "        ii=ii+1\n",
    "indi=find(x->x==cl1,ClassID)\n",
    "indj=find(x->x==cl2,ClassID)\n",
    "acci=Float64[]\n",
    "accj=Float64[]\n",
    "for d=1:Int32(maximum(DatasetID))\n",
    "    indd=find(x->x==d,DatasetID)\n",
    "    indid=intersect(indi,indd)\n",
    "    indjd=intersect(indj,indd)\n",
    "    push!(acci,mean(Percent_correct[indid])/100)\n",
    "    push!(accj,mean(Percent_correct[indjd])/100)\n",
    "end\n",
    "        rope=0.01\n",
    "        #data=Bsigntest(accj,acci,rope)\n",
    "        data=Bsignranktest(acci,accj,rope)\n",
    "        val=zeros(size(data,2),1)\n",
    "        for ind=1:size(data,2)\n",
    "            val[ind,:]=indmax(data[:,ind])\n",
    "        end\n",
    "        \n",
    "        @printf \"%s & %s & %1.3f & %1.3f & %1.3f \\\\\\\\\\n\" ClassNames[cl1] ClassNames[cl2] length(find(x->x==3,val))/length(val) length(find(x->x==2,val))/length(val)  length(find(x->x==1,val))/length(val)\n",
    "        \n",
    "ptriangle=plot_simplex(data, ClassNames[cl1],ClassNames[cl2])\n",
    "p1[ii,:]=ptriangle\n",
    "        \n",
    "     #   pvalSignedRankTest=pvalue(SignedRankTest(acci,accj))\n",
    "\n",
    "    # @printf \"%s & %s & %1.3f \\\\\\\\\\n\" ClassNames[cl1] ClassNames[cl2] pvalSignedRankTest\n",
    "\n",
    "    end\n",
    "end\n",
    "\n",
    "#set_default_plot_size(30cm, 40cm)\n",
    "#display(vstack(hstack(p1[2,1],p1[3,1],p1[4,1]),\n",
    " #              hstack(p1[5,1],p1[6,1],p1[7,1]),\n",
    "  #             hstack(p1[8,1],p1[9,1],p1[10,1])))\n",
    "\n",
    "draw(PDF(\"Plots/plotmanytriangles.pdf\", 30cm, 26cm),vstack(hstack(p1[2,1],p1[3,1],p1[4,1]),\n",
    "               hstack(p1[5,1],p1[6,1],p1[7,1]),\n",
    "               hstack(p1[8,1],p1[9,1],p1[10,1])))"
   ]
  },
  {
   "cell_type": "code",
   "execution_count": null,
   "metadata": {
    "collapsed": false
   },
   "outputs": [],
   "source": []
  },
  {
   "cell_type": "code",
   "execution_count": null,
   "metadata": {
    "collapsed": false
   },
   "outputs": [],
   "source": []
  },
  {
   "cell_type": "code",
   "execution_count": null,
   "metadata": {
    "collapsed": false
   },
   "outputs": [],
   "source": []
  },
  {
   "cell_type": "code",
   "execution_count": null,
   "metadata": {
    "collapsed": false
   },
   "outputs": [],
   "source": []
  },
  {
   "cell_type": "code",
   "execution_count": null,
   "metadata": {
    "collapsed": true
   },
   "outputs": [],
   "source": []
  }
 ],
 "metadata": {
  "kernelspec": {
   "display_name": "Julia 0.4.2",
   "language": "julia",
   "name": "julia-0.4"
  },
  "language_info": {
   "file_extension": ".jl",
   "mimetype": "application/julia",
   "name": "julia",
   "version": "0.4.2"
  }
 },
 "nbformat": 4,
 "nbformat_minor": 0
}
